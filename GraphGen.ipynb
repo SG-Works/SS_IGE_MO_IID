{
 "cells": [
  {
   "cell_type": "code",
   "execution_count": 1,
   "metadata": {},
   "outputs": [],
   "source": [
    "import numpy as np\n",
    "import scipy.stats as st\n",
    "import math\n",
    "import sympy as smp\n",
    "import random as rd\n",
    "import matplotlib.pyplot as plt"
   ]
  },
  {
   "cell_type": "code",
   "execution_count": 2,
   "metadata": {},
   "outputs": [],
   "source": [
    "class def_episode:\n",
    "    def __init__(self, evnts, edge_set):#, lastevnt, pred, succ):\n",
    "        self.freq = 0\n",
    "        self.evnts = evnts.copy()\n",
    "        self.edges = edge_set.copy()\n",
    "#         self.lastevnt = lastevnt\n",
    "#         self.pred = pred.copy()\n",
    "#         self.succ = succ.copy()\n",
    "\n",
    "class def_NFA:\n",
    "    def __init__(self):\n",
    "        self.s = set()\n",
    "        self.S = list([self.s])\n",
    "        self.F = -1\n",
    "        self.D = {}\n",
    "\n",
    "class def_DFA:\n",
    "    def __init__(self):\n",
    "        self.s = {0}\n",
    "        self.S = list([self.s])\n",
    "        self.F = list()\n",
    "        self.D = {}"
   ]
  },
  {
   "cell_type": "code",
   "execution_count": 3,
   "metadata": {},
   "outputs": [],
   "source": [
    "def Construct_NFA(alpha):\n",
    "    alpha_size = len(alpha.evnts)\n",
    "    pi = {}\n",
    "    for e in alpha.evnts:\n",
    "        pi[e] = set()\n",
    "    for (e1,e2) in alpha.edges:\n",
    "        pi[e2].add(e1)\n",
    "    NFA = def_NFA()\n",
    "    n_states = 1\n",
    "    for Q in NFA.S:\n",
    "        NFA.D[str(Q)] = {}\n",
    "        if len(Q) != alpha_size:\n",
    "            for ev in alpha.evnts-Q:\n",
    "                if not (alpha.evnts-Q).intersection(pi[ev]):\n",
    "                    Q_new = Q.copy()\n",
    "                    Q_new.add(ev)\n",
    "                    if Q_new in NFA.S:\n",
    "                        NFA.D[str(Q)][ev] = {NFA.S.index(Q_new)}\n",
    "                    else:\n",
    "                        NFA.S.append(Q_new)\n",
    "                        NFA.D[str(Q)][ev] = {len(NFA.S)-1}\n",
    "#                     NFA.D[str(Q)][ev] = [Q_new]\n",
    "#                     if Q_new not in NFA.S:\n",
    "#                         NFA.S.append(Q_new)\n",
    "            NFA.D[str(Q)]['def'] = {NFA.S.index(Q)}\n",
    "        else:\n",
    "            NFA.D[str(Q)]['def'] = set()\n",
    "            NFA.F = NFA.S.index(Q)\n",
    "    for ev in alpha.evnts:\n",
    "        if not alpha.evnts.intersection(pi[ev]):\n",
    "            NFA.D[str(NFA.s)][ev].add(0)\n",
    "    return NFA"
   ]
  },
  {
   "cell_type": "code",
   "execution_count": 4,
   "metadata": {},
   "outputs": [],
   "source": [
    "def Construct_DFA(NFA):\n",
    "    DFA = def_DFA()\n",
    "    for state in DFA.S:\n",
    "        if (NFA.F in state):\n",
    "            DFA.F.append(state)\n",
    "        DFA.D[str(state)] = {}\n",
    "        W = set({})\n",
    "        for substate in state:\n",
    "            Q = str(NFA.S[substate])\n",
    "            W = W.union(set(NFA.D[Q].keys()))\n",
    "        for ev in W:\n",
    "            new_state = set()\n",
    "            for substate in state:\n",
    "                Q = str(NFA.S[substate])\n",
    "                if ev in NFA.D[Q].keys():\n",
    "                    new_state = new_state.union(NFA.D[Q][ev])\n",
    "#                     DFA.D[str(state)][ev] = DFA.D[str(state)][ev].union(NFA.D[Q][ev])\n",
    "                else:\n",
    "                    new_state = new_state.union(NFA.D[Q]['def'])\n",
    "#                     DFA.D[str(state)][ev] = DFA.D[str(state)][ev].union(NFA.D[Q]['def'])\n",
    "            DFA.D[str(state)][ev] = new_state.copy()\n",
    "            if new_state not in DFA.S:\n",
    "                        DFA.S.append(new_state)\n",
    "        keys = list(DFA.D[str(state)].keys())\n",
    "        for k in range(len(keys)):\n",
    "            if keys[k] != 'def' and DFA.D[str(state)][keys[k]] == DFA.D[str(state)]['def']:\n",
    "                del DFA.D[str(state)][keys[k]]\n",
    "            else:\n",
    "                k += 1\n",
    "    return DFA"
   ]
  },
  {
   "cell_type": "code",
   "execution_count": 5,
   "metadata": {},
   "outputs": [],
   "source": [
    "def GetTransitionMatrix(DFA,prob):\n",
    "    T0 = list()\n",
    "    for state in DFA.S:\n",
    "        T0.append([0]*len(DFA.S))\n",
    "        for ev in DFA.D[str(state)].keys():\n",
    "            if ev == 'def':\n",
    "                continue\n",
    "            T0[-1][DFA.S.index(DFA.D[str(state)][ev])] += prob[ev]\n",
    "        T0[-1][DFA.S.index(DFA.D[str(state)]['def'])] = round(1 - sum(T0[-1]),5)\n",
    "    return(T0)"
   ]
  },
  {
   "cell_type": "code",
   "execution_count": 6,
   "metadata": {},
   "outputs": [],
   "source": [
    "def GetStats(T0,final_states):\n",
    "    \n",
    "    u = smp.symbols('u')\n",
    "    Dphi = smp.eye(len(T0))\n",
    "    for final in final_states:\n",
    "        Dphi[final,final] = u\n",
    "\n",
    "    Tu = smp.ImmutableSparseMatrix(T0)*smp.ImmutableSparseMatrix(Dphi)\n",
    "#     smp.pprint(T0)\n",
    "#     smp.pprint(Dphi)\n",
    "#     smp.pprint(Tu)\n",
    "\n",
    "    lamda = smp.symbols('lamda')\n",
    "    \n",
    "    Qn = Tu.charpoly(lamda)\n",
    "#     print(Qn)\n",
    "#     print(Qn.as_expr())\n",
    "\n",
    "    dQdu = smp.diff(Qn.as_expr(),u).subs([(u,1),(lamda,1)])\n",
    "    dQdl = smp.diff(Qn.as_expr(),lamda).subs([(u,1),(lamda,1)])\n",
    "    d2Qdu2 = smp.diff(smp.diff(Qn.as_expr(),u),u).subs([(u,1),(lamda,1)])\n",
    "    d2Qdl2 = smp.diff(smp.diff(Qn.as_expr(),lamda),lamda).subs([(u,1),(lamda,1)])\n",
    "    d2Qdudl = smp.diff(smp.diff(Qn.as_expr(),u),lamda).subs([(u,1),(lamda,1)])\n",
    "\n",
    "    lambda1 = -dQdu/dQdl\n",
    "    lambda11 = -(d2Qdu2 + 2*lambda1*d2Qdudl + lambda1**2*d2Qdl2)/dQdl\n",
    "    # print(lambda1,lambda11)\n",
    "\n",
    "    MX1 = lambda1\n",
    "    VX1 = lambda11 + lambda1 - lambda1**2\n",
    "\n",
    "    return(MX1, VX1)"
   ]
  },
  {
   "cell_type": "code",
   "execution_count": 7,
   "metadata": {},
   "outputs": [],
   "source": [
    "# Ep_Events = list(['A','B','C'])\n",
    "# episodes = list([])\n",
    "# episodes.append(def_episode(set(Ep_Events),set({('A','B'),('A','C'),('B','C')})))\n",
    "# episodes.append(def_episode(set(Ep_Events),set({('A','B'),('A','C')})))\n",
    "# episodes.append(def_episode(set(Ep_Events),set({('A','C'),('B','C')})))\n",
    "# episodes.append(def_episode(set(Ep_Events),set({})))\n",
    "# probs = np.load('probs_035_evs_3.npy')\n",
    "\n",
    "Ep_Events = list(['A','B','C','D'])\n",
    "episodes = list([])\n",
    "episodes.append(def_episode(set(Ep_Events),set({('A','B'),('A','C'),('A','D'),('B','C'),('B','D'),('C','D')})))\n",
    "episodes.append(def_episode(set(Ep_Events),set({('A','C'),('A','D'),('B','C'),('B','D'),('C','D')})))\n",
    "probs = np.load('probs_035_evs_4.npy')\n",
    "\n",
    "\n",
    "Prob_Ep_Events = {}\n",
    "for k in range(len(Ep_Events)):\n",
    "    Prob_Ep_Events[Ep_Events[k]] = probs[k]\n",
    "    \n",
    "# print(probs)"
   ]
  },
  {
   "cell_type": "code",
   "execution_count": 8,
   "metadata": {},
   "outputs": [],
   "source": [
    "episode_id = 0\n",
    "NFA = Construct_NFA(episodes[episode_id])\n",
    "DFA = Construct_DFA(NFA)\n",
    "\n",
    "final_states = set()\n",
    "for k in range(len(DFA.S)):\n",
    "    if (NFA.F in DFA.S[k]):\n",
    "        final_states.add(k)\n",
    "\n",
    "T0 = GetTransitionMatrix(DFA,Prob_Ep_Events)\n",
    "# print(len(T0))\n",
    "# smp.pprint(smp.Matrix(T0))"
   ]
  },
  {
   "cell_type": "code",
   "execution_count": 9,
   "metadata": {
    "scrolled": true
   },
   "outputs": [],
   "source": [
    "MX1, VX1 = GetStats(T0,final_states)\n",
    "# print(MX1, VX1)"
   ]
  },
  {
   "cell_type": "code",
   "execution_count": 10,
   "metadata": {},
   "outputs": [],
   "source": [
    "runs = 500\n",
    "T = 1000\n",
    "freq_list = list([])\n",
    "states = range(len(T0[0]))\n",
    "for run in range(runs):\n",
    "    curr_state = [0]\n",
    "    ep_freq = 0\n",
    "    for ti in range(T):\n",
    "        curr_state = rd.choices(states, T0[curr_state[0]], k=1)\n",
    "        if curr_state[0] in final_states:\n",
    "            ep_freq += 1\n",
    "    freq_list.append(ep_freq)\n",
    "fmax = max(freq_list)\n",
    "fmin = min(freq_list)"
   ]
  },
  {
   "cell_type": "code",
   "execution_count": 11,
   "metadata": {},
   "outputs": [],
   "source": [
    "graph = list([])\n",
    "for kkk in range(fmin-5,fmax+5):\n",
    "    graph.append(0)\n",
    "    for freq in freq_list:\n",
    "        if freq > kkk:\n",
    "            graph[-1] += 1/runs"
   ]
  },
  {
   "cell_type": "code",
   "execution_count": 12,
   "metadata": {
    "scrolled": true
   },
   "outputs": [
    {
     "data": {
      "image/png": "[encoded data removed]",
      "text/plain": [
       "<Figure size 432x288 with 1 Axes>"
      ]
     },
     "metadata": {
      "needs_background": "light"
     },
     "output_type": "display_data"
    },
    {
     "name": "stdout",
     "output_type": "stream",
     "text": [
      "5 16\n"
     ]
    }
   ],
   "source": [
    "graph2 = list([])\n",
    "for kkk in range(fmin-5,fmax+5):\n",
    "    graph2.append(1-st.norm(loc = T*MX1 , scale = math.sqrt(T*VX1)).cdf(kkk))\n",
    "\n",
    "plt.rcParams.update({'font.size': 13})\n",
    "plt.plot(range(fmin-5,fmax+5), graph, '.-')\n",
    "plt.plot(range(fmin-5,fmax+5), graph2, '.-r')\n",
    "plt.xlabel('Frequency threshold: $F_{Th}$')\n",
    "plt.ylabel(r'P$( f_\\alpha > F_{Th} )$')\n",
    "plt.legend(['Experimental','Estimated'])\n",
    "plt.grid()\n",
    "plt.show()\n",
    "print(fmin,fmax)"
   ]
  },
  {
   "cell_type": "code",
   "execution_count": null,
   "metadata": {},
   "outputs": [],
   "source": [
    "# xaxis = range(fmin-5,fmax+5)\n",
    "# for kkk in range(len(xaxis)):\n",
    "#     print(str(xaxis[kkk])+'\\t'+str(round(graph[kkk],5))+'\\t'+str(round(graph2[kkk],3)))"
   ]
  },
  {
   "cell_type": "code",
   "execution_count": 116,
   "metadata": {},
   "outputs": [],
   "source": [
    "# import numpy as np\n",
    "# import random as rd\n",
    "# Ep_Events = list(['A','B','C'])\n",
    "# Probs = np.zeros((len(Ep_Events)))\n",
    "# for k in range(len(Ep_Events)):\n",
    "#     Probs[k] = round(rd.gauss(0.035,sigma=0.001),5)\n",
    "# print(Probs)\n",
    "# np.save('probs_035_evs_3',Probs)"
   ]
  },
  {
   "cell_type": "code",
   "execution_count": 117,
   "metadata": {},
   "outputs": [],
   "source": [
    "# import numpy as np\n",
    "# import random as rd\n",
    "# Ep_Events = list(['A','B','C','D'])\n",
    "# Probs = np.zeros((len(Ep_Events)))\n",
    "# for k in range(len(Ep_Events)):\n",
    "#     Probs[k] = round(rd.gauss(0.035,sigma=0.001),5)\n",
    "# print(Probs)\n",
    "# np.save('probs_035_evs_4',Probs)"
   ]
  },
  {
   "cell_type": "code",
   "execution_count": 118,
   "metadata": {},
   "outputs": [],
   "source": [
    "# import numpy as np\n",
    "# import random as rd\n",
    "# Ep_Events = list(['A','B','C','D','E'])\n",
    "# Probs = np.zeros((len(Ep_Events)))\n",
    "# for k in range(len(Ep_Events)):\n",
    "#     Probs[k] = round(rd.gauss(0.035,sigma=0.001),5)\n",
    "# print(Probs)\n",
    "# np.save('probs_035_evs_5',Probs)"
   ]
  },
  {
   "cell_type": "code",
   "execution_count": 119,
   "metadata": {},
   "outputs": [],
   "source": [
    "# def GetTransitions(DFA):\n",
    "#     Mat = list()\n",
    "#     for state in DFA.S:\n",
    "#         Mat.append(list())\n",
    "#         for kkk in range(len(DFA.S)):\n",
    "#             Mat[-1].append(list())\n",
    "#         for ev in DFA.D[str(state)].keys():\n",
    "#             if ev == 'def':\n",
    "#                 continue\n",
    "#             Mat[-1][DFA.S.index(DFA.D[str(state)][ev])].append(ev)\n",
    "#         Mat[-1][DFA.S.index(DFA.D[str(state)]['def'])] = 'def'\n",
    "#     for rrr in range(len(Mat)):\n",
    "#         print(DFA.S[rrr], ': ', Mat[rrr])\n",
    "# GetTransitions(DFA)"
   ]
  },
  {
   "cell_type": "code",
   "execution_count": 120,
   "metadata": {},
   "outputs": [],
   "source": [
    "# def Print_Automata(NFA,DFA):\n",
    "#     print('NFA')\n",
    "#     print('start state: ', NFA.s)\n",
    "#     print('final state: ', NFA.S[NFA.F])\n",
    "#     print('\\n')\n",
    "#     for Q in NFA.S:\n",
    "#         print('Current state: ', Q)\n",
    "#         print('Transitions:')\n",
    "#         for ev in NFA.D[str(Q)].keys():\n",
    "#             print(ev, ' : ', [NFA.S[next_state] for next_state in NFA.D[str(Q)][ev]])\n",
    "#     #             print(ev,' : ', )\n",
    "#         print('\\n')\n",
    "\n",
    "#     print('\\n \\n \\nDFA')\n",
    "#     print('start state: ', [NFA.S[id] for id in list(DFA.s)])\n",
    "#     print('final states: ')\n",
    "#     for final in list(DFA.F):\n",
    "#           print([NFA.S[id] for id in final ])\n",
    "#     print('\\n')\n",
    "\n",
    "#     for state in DFA.S:\n",
    "#         print('Current state: ', [NFA.S[Q] for Q in list(state)])\n",
    "#         print('Transitions:')\n",
    "#         for ev in DFA.D[str(state)].keys():\n",
    "#             print(ev, ' : ', [NFA.S[next_state] for next_state in DFA.D[str(state)][ev]])\n",
    "#         print('\\n')\n",
    "        \n",
    "# Print_Automata(NFA,DFA)"
   ]
  }
 ],
 "metadata": {
  "kernelspec": {
   "display_name": "Python 3",
   "language": "python",
   "name": "python3"
  },
  "language_info": {
   "codemirror_mode": {
    "name": "ipython",
    "version": 3
   },
   "file_extension": ".py",
   "mimetype": "text/x-python",
   "name": "python",
   "nbconvert_exporter": "python",
   "pygments_lexer": "ipython3",
   "version": "3.7.6"
  }
 },
 "nbformat": 4,
 "nbformat_minor": 4
}
